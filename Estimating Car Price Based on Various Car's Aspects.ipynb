{
 "cells": [
  {
   "cell_type": "markdown",
   "metadata": {
    "collapsed": true
   },
   "source": [
    "## Introduction\n",
    "**Goal**: Predict a car's market price using its attributes. For each car, we have information about the technical aspects of the vehicle such as the motor's displacement, the weight of the car, the miles per gallon, and more. Here are some [more information](https://archive.ics.uci.edu/ml/datasets/automobile) about the dataset\n",
    "\n",
    "Links to download the dataset: [here](https://archive.ics.uci.edu/ml/datasets/automobile)"
   ]
  },
  {
   "cell_type": "markdown",
   "metadata": {},
   "source": [
    "## Dataset dictionary\n",
    ". symboling: -3, -2, -1, 0, 1, 2, 3.\n",
    "2. normalized-losses: continuous from 65 to 256.\n",
    "3. make:\n",
    "alfa-romero, audi, bmw, chevrolet, dodge, honda,\n",
    "isuzu, jaguar, mazda, mercedes-benz, mercury,\n",
    "mitsubishi, nissan, peugot, plymouth, porsche,\n",
    "renault, saab, subaru, toyota, volkswagen, volvo\n",
    "\n",
    "4. fuel-type: diesel, gas.\n",
    "5. aspiration: std, turbo.\n",
    "6. num-of-doors: four, two.\n",
    "7. body-style: hardtop, wagon, sedan, hatchback, convertible.\n",
    "8. drive-wheels: 4wd, fwd, rwd.\n",
    "9. engine-location: front, rear.\n",
    "10. wheel-base: continuous from 86.6 120.9.\n",
    "11. length: continuous from 141.1 to 208.1.\n",
    "12. width: continuous from 60.3 to 72.3.\n",
    "13. height: continuous from 47.8 to 59.8.\n",
    "14. curb-weight: continuous from 1488 to 4066.\n",
    "15. engine-type: dohc, dohcv, l, ohc, ohcf, ohcv, rotor.\n",
    "16. num-of-cylinders: eight, five, four, six, three, twelve, two.\n",
    "17. engine-size: continuous from 61 to 326.\n",
    "18. fuel-system: 1bbl, 2bbl, 4bbl, idi, mfi, mpfi, spdi, spfi.\n",
    "19. bore: continuous from 2.54 to 3.94.\n",
    "20. stroke: continuous from 2.07 to 4.17.\n",
    "21. compression-ratio: continuous from 7 to 23.\n",
    "22. horsepower: continuous from 48 to 288.\n",
    "23. peak-rpm: continuous from 4150 to 6600.\n",
    "24. city-mpg: continuous from 13 to 49.\n",
    "25. highway-mpg: continuous from 16 to 54.\n",
    "26. price: continuous from 5118 to 45400."
   ]
  },
  {
   "cell_type": "code",
   "execution_count": 1,
   "metadata": {
    "collapsed": true
   },
   "outputs": [],
   "source": [
    "import numpy as np\n",
    "import pandas as pd\n",
    "import matplotlib.pyplot as plt\n",
    "%matplotlib inline"
   ]
  },
  {
   "cell_type": "code",
   "execution_count": 2,
   "metadata": {
    "collapsed": false,
    "scrolled": true
   },
   "outputs": [
    {
     "data": {
      "text/html": [
       "<div>\n",
       "<style scoped>\n",
       "    .dataframe tbody tr th:only-of-type {\n",
       "        vertical-align: middle;\n",
       "    }\n",
       "\n",
       "    .dataframe tbody tr th {\n",
       "        vertical-align: top;\n",
       "    }\n",
       "\n",
       "    .dataframe thead th {\n",
       "        text-align: right;\n",
       "    }\n",
       "</style>\n",
       "<table border=\"1\" class=\"dataframe\">\n",
       "  <thead>\n",
       "    <tr style=\"text-align: right;\">\n",
       "      <th></th>\n",
       "      <th>symboling</th>\n",
       "      <th>normalize_losses</th>\n",
       "      <th>make</th>\n",
       "      <th>fuel-type</th>\n",
       "      <th>aspiration</th>\n",
       "      <th>num_of_doors</th>\n",
       "      <th>body_style</th>\n",
       "      <th>drive_wheels</th>\n",
       "      <th>engine_location</th>\n",
       "      <th>wheel_base</th>\n",
       "      <th>...</th>\n",
       "      <th>engine_size</th>\n",
       "      <th>fuel_system</th>\n",
       "      <th>bore</th>\n",
       "      <th>stroke</th>\n",
       "      <th>compression_ratio</th>\n",
       "      <th>horsepower</th>\n",
       "      <th>peak_rpm</th>\n",
       "      <th>city_mpg</th>\n",
       "      <th>highway_mpg</th>\n",
       "      <th>price</th>\n",
       "    </tr>\n",
       "  </thead>\n",
       "  <tbody>\n",
       "    <tr>\n",
       "      <th>0</th>\n",
       "      <td>3</td>\n",
       "      <td>?</td>\n",
       "      <td>alfa-romero</td>\n",
       "      <td>gas</td>\n",
       "      <td>std</td>\n",
       "      <td>two</td>\n",
       "      <td>convertible</td>\n",
       "      <td>rwd</td>\n",
       "      <td>front</td>\n",
       "      <td>88.6</td>\n",
       "      <td>...</td>\n",
       "      <td>130</td>\n",
       "      <td>mpfi</td>\n",
       "      <td>3.47</td>\n",
       "      <td>2.68</td>\n",
       "      <td>9.0</td>\n",
       "      <td>111</td>\n",
       "      <td>5000</td>\n",
       "      <td>21</td>\n",
       "      <td>27</td>\n",
       "      <td>13495</td>\n",
       "    </tr>\n",
       "    <tr>\n",
       "      <th>1</th>\n",
       "      <td>3</td>\n",
       "      <td>?</td>\n",
       "      <td>alfa-romero</td>\n",
       "      <td>gas</td>\n",
       "      <td>std</td>\n",
       "      <td>two</td>\n",
       "      <td>convertible</td>\n",
       "      <td>rwd</td>\n",
       "      <td>front</td>\n",
       "      <td>88.6</td>\n",
       "      <td>...</td>\n",
       "      <td>130</td>\n",
       "      <td>mpfi</td>\n",
       "      <td>3.47</td>\n",
       "      <td>2.68</td>\n",
       "      <td>9.0</td>\n",
       "      <td>111</td>\n",
       "      <td>5000</td>\n",
       "      <td>21</td>\n",
       "      <td>27</td>\n",
       "      <td>16500</td>\n",
       "    </tr>\n",
       "    <tr>\n",
       "      <th>2</th>\n",
       "      <td>1</td>\n",
       "      <td>?</td>\n",
       "      <td>alfa-romero</td>\n",
       "      <td>gas</td>\n",
       "      <td>std</td>\n",
       "      <td>two</td>\n",
       "      <td>hatchback</td>\n",
       "      <td>rwd</td>\n",
       "      <td>front</td>\n",
       "      <td>94.5</td>\n",
       "      <td>...</td>\n",
       "      <td>152</td>\n",
       "      <td>mpfi</td>\n",
       "      <td>2.68</td>\n",
       "      <td>3.47</td>\n",
       "      <td>9.0</td>\n",
       "      <td>154</td>\n",
       "      <td>5000</td>\n",
       "      <td>19</td>\n",
       "      <td>26</td>\n",
       "      <td>16500</td>\n",
       "    </tr>\n",
       "    <tr>\n",
       "      <th>3</th>\n",
       "      <td>2</td>\n",
       "      <td>164</td>\n",
       "      <td>audi</td>\n",
       "      <td>gas</td>\n",
       "      <td>std</td>\n",
       "      <td>four</td>\n",
       "      <td>sedan</td>\n",
       "      <td>fwd</td>\n",
       "      <td>front</td>\n",
       "      <td>99.8</td>\n",
       "      <td>...</td>\n",
       "      <td>109</td>\n",
       "      <td>mpfi</td>\n",
       "      <td>3.19</td>\n",
       "      <td>3.40</td>\n",
       "      <td>10.0</td>\n",
       "      <td>102</td>\n",
       "      <td>5500</td>\n",
       "      <td>24</td>\n",
       "      <td>30</td>\n",
       "      <td>13950</td>\n",
       "    </tr>\n",
       "    <tr>\n",
       "      <th>4</th>\n",
       "      <td>2</td>\n",
       "      <td>164</td>\n",
       "      <td>audi</td>\n",
       "      <td>gas</td>\n",
       "      <td>std</td>\n",
       "      <td>four</td>\n",
       "      <td>sedan</td>\n",
       "      <td>4wd</td>\n",
       "      <td>front</td>\n",
       "      <td>99.4</td>\n",
       "      <td>...</td>\n",
       "      <td>136</td>\n",
       "      <td>mpfi</td>\n",
       "      <td>3.19</td>\n",
       "      <td>3.40</td>\n",
       "      <td>8.0</td>\n",
       "      <td>115</td>\n",
       "      <td>5500</td>\n",
       "      <td>18</td>\n",
       "      <td>22</td>\n",
       "      <td>17450</td>\n",
       "    </tr>\n",
       "  </tbody>\n",
       "</table>\n",
       "<p>5 rows × 26 columns</p>\n",
       "</div>"
      ],
      "text/plain": [
       "   symboling normalize_losses         make fuel-type aspiration num_of_doors  \\\n",
       "0          3                ?  alfa-romero       gas        std          two   \n",
       "1          3                ?  alfa-romero       gas        std          two   \n",
       "2          1                ?  alfa-romero       gas        std          two   \n",
       "3          2              164         audi       gas        std         four   \n",
       "4          2              164         audi       gas        std         four   \n",
       "\n",
       "    body_style drive_wheels engine_location  wheel_base  ...    engine_size  \\\n",
       "0  convertible          rwd           front        88.6  ...            130   \n",
       "1  convertible          rwd           front        88.6  ...            130   \n",
       "2    hatchback          rwd           front        94.5  ...            152   \n",
       "3        sedan          fwd           front        99.8  ...            109   \n",
       "4        sedan          4wd           front        99.4  ...            136   \n",
       "\n",
       "   fuel_system  bore  stroke compression_ratio horsepower  peak_rpm city_mpg  \\\n",
       "0         mpfi  3.47    2.68               9.0        111      5000       21   \n",
       "1         mpfi  3.47    2.68               9.0        111      5000       21   \n",
       "2         mpfi  2.68    3.47               9.0        154      5000       19   \n",
       "3         mpfi  3.19    3.40              10.0        102      5500       24   \n",
       "4         mpfi  3.19    3.40               8.0        115      5500       18   \n",
       "\n",
       "  highway_mpg  price  \n",
       "0          27  13495  \n",
       "1          27  16500  \n",
       "2          26  16500  \n",
       "3          30  13950  \n",
       "4          22  17450  \n",
       "\n",
       "[5 rows x 26 columns]"
      ]
     },
     "execution_count": 2,
     "metadata": {},
     "output_type": "execute_result"
    }
   ],
   "source": [
    "columns_name = ['symboling', 'normalize_losses', 'make', 'fuel-type', 'aspiration',\n",
    "               'num_of_doors', 'body_style', 'drive_wheels', 'engine_location', 'wheel_base',\n",
    "               'length', 'width', 'height', 'curb_weight', 'engine_type', 'num_of_cyclinders',\n",
    "               'engine_size', 'fuel_system', 'bore', 'stroke', 'compression_ratio', 'horsepower',\n",
    "               'peak_rpm', 'city_mpg', 'highway_mpg', 'price']\n",
    "# When we read the dataset, we didn't get the columns' name as expected, so we have to re-create the names ourselves\n",
    "cars= pd.read_csv('imports-85.data', names = columns_name)\n",
    "cars.head()"
   ]
  },
  {
   "cell_type": "code",
   "execution_count": 3,
   "metadata": {
    "collapsed": false,
    "scrolled": true
   },
   "outputs": [
    {
     "name": "stdout",
     "output_type": "stream",
     "text": [
      "<class 'pandas.core.frame.DataFrame'>\n",
      "RangeIndex: 205 entries, 0 to 204\n",
      "Data columns (total 26 columns):\n",
      "symboling            205 non-null int64\n",
      "normalize_losses     205 non-null object\n",
      "make                 205 non-null object\n",
      "fuel-type            205 non-null object\n",
      "aspiration           205 non-null object\n",
      "num_of_doors         205 non-null object\n",
      "body_style           205 non-null object\n",
      "drive_wheels         205 non-null object\n",
      "engine_location      205 non-null object\n",
      "wheel_base           205 non-null float64\n",
      "length               205 non-null float64\n",
      "width                205 non-null float64\n",
      "height               205 non-null float64\n",
      "curb_weight          205 non-null int64\n",
      "engine_type          205 non-null object\n",
      "num_of_cyclinders    205 non-null object\n",
      "engine_size          205 non-null int64\n",
      "fuel_system          205 non-null object\n",
      "bore                 205 non-null object\n",
      "stroke               205 non-null object\n",
      "compression_ratio    205 non-null float64\n",
      "horsepower           205 non-null object\n",
      "peak_rpm             205 non-null object\n",
      "city_mpg             205 non-null int64\n",
      "highway_mpg          205 non-null int64\n",
      "price                205 non-null object\n",
      "dtypes: float64(5), int64(5), object(16)\n",
      "memory usage: 41.7+ KB\n"
     ]
    }
   ],
   "source": [
    "cars.info()"
   ]
  },
  {
   "cell_type": "code",
   "execution_count": 4,
   "metadata": {
    "collapsed": false
   },
   "outputs": [
    {
     "name": "stdout",
     "output_type": "stream",
     "text": [
      "<bound method Index.tolist of Index(['symboling', 'wheel_base', 'length', 'width', 'height', 'curb_weight',\n",
      "       'engine_size', 'compression_ratio', 'city_mpg', 'highway_mpg'],\n",
      "      dtype='object')>\n"
     ]
    }
   ],
   "source": [
    "numeric_columns = cars.select_dtypes(include = 'number')\n",
    "# Print out the name of the columns\n",
    "print(numeric_columns.columns.tolist)"
   ]
  },
  {
   "cell_type": "markdown",
   "metadata": {},
   "source": [
    "After inspecting the first 5 rows:\n",
    "- The `price` column will be the target column\n",
    "- Features columns: `symboling', 'wheel_base', 'length', 'width', 'height', 'curb_weight', 'engine_size', 'compression_ratio', 'city_mpg', 'highway_mpg`"
   ]
  },
  {
   "cell_type": "markdown",
   "metadata": {},
   "source": [
    "## Data Cleaning"
   ]
  },
  {
   "cell_type": "markdown",
   "metadata": {},
   "source": [
    "Normally, if we want to use a dataset for predictive modeling, we can't have any missing values.\n",
    "\n",
    "Based on the preview of the dataset, we can see that `normalized_losses` column contain missing value `?`\n",
    "\n",
    "Therefore, we will replace these values and find other missing value in the rest of the columns as well as **rescale** so that the values all range from 0 - 1"
   ]
  },
  {
   "cell_type": "code",
   "execution_count": 5,
   "metadata": {
    "collapsed": false
   },
   "outputs": [
    {
     "name": "stdout",
     "output_type": "stream",
     "text": [
      "0    NaN\n",
      "1    NaN\n",
      "2    NaN\n",
      "3    164\n",
      "4    164\n",
      "Name: normalize_losses, dtype: object\n"
     ]
    }
   ],
   "source": [
    "## Replacing `?` values in `normalized_losses` column\n",
    "cars['normalize_losses'] = cars['normalize_losses'].replace('?', np.nan)\n",
    "print(cars['normalize_losses'].head())"
   ]
  },
  {
   "cell_type": "code",
   "execution_count": 6,
   "metadata": {
    "collapsed": false
   },
   "outputs": [
    {
     "name": "stdout",
     "output_type": "stream",
     "text": [
      "41\n",
      "205\n"
     ]
    }
   ],
   "source": [
    "## Replace missing values `NaN` into numeric so that we can convert it into int type\n",
    "print(cars['normalize_losses'].isnull().sum())\n",
    "print(len(cars['normalize_losses']))"
   ]
  },
  {
   "cell_type": "markdown",
   "metadata": {},
   "source": [
    "The ratio of missing values comparing with the entire column is 20%. Hence, instead of dropping the whole column, we will replace those missing values with the average values in that column"
   ]
  },
  {
   "cell_type": "code",
   "execution_count": 7,
   "metadata": {
    "collapsed": false
   },
   "outputs": [
    {
     "name": "stdout",
     "output_type": "stream",
     "text": [
      "122.0\n"
     ]
    }
   ],
   "source": [
    "# Convert the `normalized_loss` column into numeric type\n",
    "cars['normalize_losses']= cars['normalize_losses'].astype('float')\n",
    "mean_loss = cars['normalize_losses'].mean()\n",
    "print(mean_loss)"
   ]
  },
  {
   "cell_type": "code",
   "execution_count": 8,
   "metadata": {
    "collapsed": false
   },
   "outputs": [
    {
     "name": "stdout",
     "output_type": "stream",
     "text": [
      "0    122.0\n",
      "1    122.0\n",
      "2    122.0\n",
      "3    164.0\n",
      "4    164.0\n",
      "Name: normalize_losses, dtype: float64\n"
     ]
    }
   ],
   "source": [
    "# Replace all `NaN` values with the mean of the column\n",
    "cars['normalize_losses'].fillna(mean_loss, inplace = True)\n",
    "print(cars['normalize_losses'].head())"
   ]
  },
  {
   "cell_type": "code",
   "execution_count": 9,
   "metadata": {
    "collapsed": false
   },
   "outputs": [
    {
     "name": "stdout",
     "output_type": "stream",
     "text": [
      "symboling            0\n",
      "normalize_losses     0\n",
      "make                 0\n",
      "fuel-type            0\n",
      "aspiration           0\n",
      "num_of_doors         0\n",
      "body_style           0\n",
      "drive_wheels         0\n",
      "engine_location      0\n",
      "wheel_base           0\n",
      "length               0\n",
      "width                0\n",
      "height               0\n",
      "curb_weight          0\n",
      "engine_type          0\n",
      "num_of_cyclinders    0\n",
      "engine_size          0\n",
      "fuel_system          0\n",
      "bore                 0\n",
      "stroke               0\n",
      "compression_ratio    0\n",
      "horsepower           0\n",
      "peak_rpm             0\n",
      "city_mpg             0\n",
      "highway_mpg          0\n",
      "price                0\n",
      "dtype: int64\n"
     ]
    }
   ],
   "source": [
    "## Explore missing values in other columns\n",
    "print(cars.isnull().sum())"
   ]
  },
  {
   "cell_type": "markdown",
   "metadata": {},
   "source": [
    "As above, all of the columns have 0 missing values"
   ]
  },
  {
   "cell_type": "code",
   "execution_count": 10,
   "metadata": {
    "collapsed": false,
    "scrolled": true
   },
   "outputs": [
    {
     "name": "stdout",
     "output_type": "stream",
     "text": [
      "          make fuel-type aspiration num_of_doors   body_style drive_wheels  \\\n",
      "0  alfa-romero       gas        std          two  convertible          rwd   \n",
      "1  alfa-romero       gas        std          two  convertible          rwd   \n",
      "2  alfa-romero       gas        std          two    hatchback          rwd   \n",
      "3         audi       gas        std         four        sedan          fwd   \n",
      "4         audi       gas        std         four        sedan          4wd   \n",
      "\n",
      "  engine_location engine_type num_of_cyclinders fuel_system  bore stroke  \\\n",
      "0           front        dohc              four        mpfi  3.47   2.68   \n",
      "1           front        dohc              four        mpfi  3.47   2.68   \n",
      "2           front        ohcv               six        mpfi  2.68   3.47   \n",
      "3           front         ohc              four        mpfi  3.19   3.40   \n",
      "4           front         ohc              five        mpfi  3.19   3.40   \n",
      "\n",
      "  horsepower peak_rpm  price  \n",
      "0        111     5000  13495  \n",
      "1        111     5000  16500  \n",
      "2        154     5000  16500  \n",
      "3        102     5500  13950  \n",
      "4        115     5500  17450  \n"
     ]
    }
   ],
   "source": [
    "print(cars.select_dtypes(include = 'object').head())"
   ]
  },
  {
   "cell_type": "markdown",
   "metadata": {},
   "source": [
    "Because `?` is a string value, we will replace it into `np.nan`, convert the column to numeric type, then fill in the missing values with mean of the column"
   ]
  },
  {
   "cell_type": "code",
   "execution_count": 11,
   "metadata": {
    "collapsed": true
   },
   "outputs": [],
   "source": [
    "## Build a pipeline to replace values with nan\n",
    "def replace_values(df, columns, val):\n",
    "    df[columns] = df[columns].replace(val, np.nan)\n",
    "    # Convert to `float` type\n",
    "    df[columns] = df[columns].astype('float')\n",
    "    # Calculate the mean of that collumn\n",
    "    mean = df[columns].mean()\n",
    "    # Replace all NaN values with mean\n",
    "    df[columns].fillna(mean, inplace = True)\n",
    "    return df[columns]"
   ]
  },
  {
   "cell_type": "code",
   "execution_count": 12,
   "metadata": {
    "collapsed": false
   },
   "outputs": [
    {
     "name": "stdout",
     "output_type": "stream",
     "text": [
      "5500.000000    37\n",
      "4800.000000    36\n",
      "5000.000000    27\n",
      "5200.000000    23\n",
      "5400.000000    13\n",
      "6000.000000     9\n",
      "4500.000000     7\n",
      "5800.000000     7\n",
      "5250.000000     7\n",
      "4200.000000     5\n",
      "4150.000000     5\n",
      "4350.000000     4\n",
      "4750.000000     4\n",
      "4400.000000     3\n",
      "5900.000000     3\n",
      "5100.000000     3\n",
      "4250.000000     3\n",
      "6600.000000     2\n",
      "5125.369458     2\n",
      "5750.000000     1\n",
      "4650.000000     1\n",
      "5300.000000     1\n",
      "5600.000000     1\n",
      "4900.000000     1\n",
      "Name: peak_rpm, dtype: int64\n"
     ]
    }
   ],
   "source": [
    "cars['peak_rpm'] = replace_values(cars, 'peak_rpm', '?')\n",
    "cars['stroke'] = replace_values(cars, 'stroke', '?')\n",
    "cars['horsepower'] = replace_values(cars, 'horsepower', '?')\n",
    "non_numeric_columns = ['horsepower', 'price', 'bore','stroke']\n",
    "for val in non_numeric_columns:\n",
    "    cars[val] = replace_values(cars, val, '?')\n",
    "print(cars['peak_rpm'].value_counts())"
   ]
  },
  {
   "cell_type": "markdown",
   "metadata": {},
   "source": [
    "Besides, we can other string columns into numeric types, specifically `horsepower, peak_rpm, price, bore, stroke`"
   ]
  },
  {
   "cell_type": "code",
   "execution_count": 13,
   "metadata": {
    "collapsed": false
   },
   "outputs": [
    {
     "name": "stdout",
     "output_type": "stream",
     "text": [
      "          make fuel-type aspiration num_of_doors   body_style drive_wheels  \\\n",
      "0  alfa-romero       gas        std          two  convertible          rwd   \n",
      "1  alfa-romero       gas        std          two  convertible          rwd   \n",
      "2  alfa-romero       gas        std          two    hatchback          rwd   \n",
      "3         audi       gas        std         four        sedan          fwd   \n",
      "4         audi       gas        std         four        sedan          4wd   \n",
      "\n",
      "  engine_location engine_type num_of_cyclinders fuel_system  \n",
      "0           front        dohc              four        mpfi  \n",
      "1           front        dohc              four        mpfi  \n",
      "2           front        ohcv               six        mpfi  \n",
      "3           front         ohc              four        mpfi  \n",
      "4           front         ohc              five        mpfi  \n"
     ]
    }
   ],
   "source": [
    "print(cars.select_dtypes(include = 'object').head())"
   ]
  },
  {
   "cell_type": "code",
   "execution_count": 14,
   "metadata": {
    "collapsed": false
   },
   "outputs": [
    {
     "data": {
      "text/plain": [
       "four      159\n",
       "six        24\n",
       "five       11\n",
       "eight       5\n",
       "two         4\n",
       "twelve      1\n",
       "three       1\n",
       "Name: num_of_cyclinders, dtype: int64"
      ]
     },
     "execution_count": 14,
     "metadata": {},
     "output_type": "execute_result"
    }
   ],
   "source": [
    "# We can replace the string values in the `num_of_cyclinders` columns with appropriate numbers\n",
    "cars['num_of_cyclinders'].value_counts()"
   ]
  },
  {
   "cell_type": "code",
   "execution_count": 15,
   "metadata": {
    "collapsed": true
   },
   "outputs": [],
   "source": [
    "cyclinder_num = {'four': 4,\n",
    "                 'six': 6,\n",
    "                 'five': 5,\n",
    "                 'eight': 8, \n",
    "                 'two': 2,\n",
    "                 'three': 3,\n",
    "                 'twelve': 12}\n",
    "cars['num_of_cyclinders'].replace(cyclinder_num, inplace= True)"
   ]
  },
  {
   "cell_type": "code",
   "execution_count": 16,
   "metadata": {
    "collapsed": false,
    "scrolled": true
   },
   "outputs": [
    {
     "name": "stdout",
     "output_type": "stream",
     "text": [
      "4     159\n",
      "6      24\n",
      "5      11\n",
      "8       5\n",
      "2       4\n",
      "12      1\n",
      "3       1\n",
      "Name: num_of_cyclinders, dtype: int64\n"
     ]
    }
   ],
   "source": [
    "print(cars['num_of_cyclinders'].value_counts())"
   ]
  },
  {
   "cell_type": "code",
   "execution_count": 17,
   "metadata": {
    "collapsed": false
   },
   "outputs": [
    {
     "name": "stdout",
     "output_type": "stream",
     "text": [
      "4    114\n",
      "2     89\n",
      "?      2\n",
      "Name: num_of_doors, dtype: int64\n"
     ]
    }
   ],
   "source": [
    "door_num = {'four': 4, \n",
    "             'two': 2,}\n",
    "cars['num_of_doors'].replace(door_num, inplace= True)\n",
    "print(cars['num_of_doors'].value_counts())"
   ]
  },
  {
   "cell_type": "code",
   "execution_count": 18,
   "metadata": {
    "collapsed": false
   },
   "outputs": [
    {
     "name": "stdout",
     "output_type": "stream",
     "text": [
      "4.000000    114\n",
      "2.000000     89\n",
      "3.123153      2\n",
      "Name: num_of_doors, dtype: int64\n",
      "gas       185\n",
      "diesel     20\n",
      "Name: fuel-type, dtype: int64\n"
     ]
    }
   ],
   "source": [
    "# Because there're only 2 values with `?`, we can drop them without affecting the dataframe\n",
    "cars['num_of_doors'] = replace_values(cars, 'num_of_doors', '?')\n",
    "print(cars['num_of_doors'].value_counts())\n",
    "print(cars['fuel-type'].value_counts())"
   ]
  },
  {
   "cell_type": "markdown",
   "metadata": {},
   "source": [
    "#### After several tries, I decided not to include these features when tuning hyperparameters model below"
   ]
  },
  {
   "cell_type": "code",
   "execution_count": 19,
   "metadata": {
    "collapsed": false
   },
   "outputs": [
    {
     "name": "stdout",
     "output_type": "stream",
     "text": [
      "     symboling  normalize_losses  num_of_doors  wheel_base  length  width  \\\n",
      "0            3             122.0      2.000000        88.6   168.8   64.1   \n",
      "1            3             122.0      2.000000        88.6   168.8   64.1   \n",
      "2            1             122.0      2.000000        94.5   171.2   65.5   \n",
      "3            2             164.0      4.000000        99.8   176.6   66.2   \n",
      "4            2             164.0      4.000000        99.4   176.6   66.4   \n",
      "5            2             122.0      2.000000        99.8   177.3   66.3   \n",
      "6            1             158.0      4.000000       105.8   192.7   71.4   \n",
      "7            1             122.0      4.000000       105.8   192.7   71.4   \n",
      "8            1             158.0      4.000000       105.8   192.7   71.4   \n",
      "9            0             122.0      2.000000        99.5   178.2   67.9   \n",
      "10           2             192.0      2.000000       101.2   176.8   64.8   \n",
      "11           0             192.0      4.000000       101.2   176.8   64.8   \n",
      "12           0             188.0      2.000000       101.2   176.8   64.8   \n",
      "13           0             188.0      4.000000       101.2   176.8   64.8   \n",
      "14           1             122.0      4.000000       103.5   189.0   66.9   \n",
      "15           0             122.0      4.000000       103.5   189.0   66.9   \n",
      "16           0             122.0      2.000000       103.5   193.8   67.9   \n",
      "17           0             122.0      4.000000       110.0   197.0   70.9   \n",
      "18           2             121.0      2.000000        88.4   141.1   60.3   \n",
      "19           1              98.0      2.000000        94.5   155.9   63.6   \n",
      "20           0              81.0      4.000000        94.5   158.8   63.6   \n",
      "21           1             118.0      2.000000        93.7   157.3   63.8   \n",
      "22           1             118.0      2.000000        93.7   157.3   63.8   \n",
      "23           1             118.0      2.000000        93.7   157.3   63.8   \n",
      "24           1             148.0      4.000000        93.7   157.3   63.8   \n",
      "25           1             148.0      4.000000        93.7   157.3   63.8   \n",
      "26           1             148.0      4.000000        93.7   157.3   63.8   \n",
      "27           1             148.0      3.123153        93.7   157.3   63.8   \n",
      "28          -1             110.0      4.000000       103.3   174.6   64.6   \n",
      "29           3             145.0      2.000000        95.9   173.2   66.3   \n",
      "..         ...               ...           ...         ...     ...    ...   \n",
      "175         -1              65.0      4.000000       102.4   175.6   66.5   \n",
      "176         -1              65.0      4.000000       102.4   175.6   66.5   \n",
      "177         -1              65.0      4.000000       102.4   175.6   66.5   \n",
      "178          3             197.0      2.000000       102.9   183.5   67.7   \n",
      "179          3             197.0      2.000000       102.9   183.5   67.7   \n",
      "180         -1              90.0      4.000000       104.5   187.8   66.5   \n",
      "181         -1             122.0      4.000000       104.5   187.8   66.5   \n",
      "182          2             122.0      2.000000        97.3   171.7   65.5   \n",
      "183          2             122.0      2.000000        97.3   171.7   65.5   \n",
      "184          2              94.0      4.000000        97.3   171.7   65.5   \n",
      "185          2              94.0      4.000000        97.3   171.7   65.5   \n",
      "186          2              94.0      4.000000        97.3   171.7   65.5   \n",
      "187          2              94.0      4.000000        97.3   171.7   65.5   \n",
      "188          2              94.0      4.000000        97.3   171.7   65.5   \n",
      "189          3             122.0      2.000000        94.5   159.3   64.2   \n",
      "190          3             256.0      2.000000        94.5   165.7   64.0   \n",
      "191          0             122.0      4.000000       100.4   180.2   66.9   \n",
      "192          0             122.0      4.000000       100.4   180.2   66.9   \n",
      "193          0             122.0      4.000000       100.4   183.1   66.9   \n",
      "194         -2             103.0      4.000000       104.3   188.8   67.2   \n",
      "195         -1              74.0      4.000000       104.3   188.8   67.2   \n",
      "196         -2             103.0      4.000000       104.3   188.8   67.2   \n",
      "197         -1              74.0      4.000000       104.3   188.8   67.2   \n",
      "198         -2             103.0      4.000000       104.3   188.8   67.2   \n",
      "199         -1              74.0      4.000000       104.3   188.8   67.2   \n",
      "200         -1              95.0      4.000000       109.1   188.8   68.9   \n",
      "201         -1              95.0      4.000000       109.1   188.8   68.8   \n",
      "202         -1              95.0      4.000000       109.1   188.8   68.9   \n",
      "203         -1              95.0      4.000000       109.1   188.8   68.9   \n",
      "204         -1              95.0      4.000000       109.1   188.8   68.9   \n",
      "\n",
      "     height  curb_weight  num_of_cyclinders  engine_size  bore  stroke  \\\n",
      "0      48.8         2548                  4          130  3.47    2.68   \n",
      "1      48.8         2548                  4          130  3.47    2.68   \n",
      "2      52.4         2823                  6          152  2.68    3.47   \n",
      "3      54.3         2337                  4          109  3.19    3.40   \n",
      "4      54.3         2824                  5          136  3.19    3.40   \n",
      "5      53.1         2507                  5          136  3.19    3.40   \n",
      "6      55.7         2844                  5          136  3.19    3.40   \n",
      "7      55.7         2954                  5          136  3.19    3.40   \n",
      "8      55.9         3086                  5          131  3.13    3.40   \n",
      "9      52.0         3053                  5          131  3.13    3.40   \n",
      "10     54.3         2395                  4          108  3.50    2.80   \n",
      "11     54.3         2395                  4          108  3.50    2.80   \n",
      "12     54.3         2710                  6          164  3.31    3.19   \n",
      "13     54.3         2765                  6          164  3.31    3.19   \n",
      "14     55.7         3055                  6          164  3.31    3.19   \n",
      "15     55.7         3230                  6          209  3.62    3.39   \n",
      "16     53.7         3380                  6          209  3.62    3.39   \n",
      "17     56.3         3505                  6          209  3.62    3.39   \n",
      "18     53.2         1488                  3           61  2.91    3.03   \n",
      "19     52.0         1874                  4           90  3.03    3.11   \n",
      "20     52.0         1909                  4           90  3.03    3.11   \n",
      "21     50.8         1876                  4           90  2.97    3.23   \n",
      "22     50.8         1876                  4           90  2.97    3.23   \n",
      "23     50.8         2128                  4           98  3.03    3.39   \n",
      "24     50.6         1967                  4           90  2.97    3.23   \n",
      "25     50.6         1989                  4           90  2.97    3.23   \n",
      "26     50.6         1989                  4           90  2.97    3.23   \n",
      "27     50.6         2191                  4           98  3.03    3.39   \n",
      "28     59.8         2535                  4          122  3.34    3.46   \n",
      "29     50.2         2811                  4          156  3.60    3.90   \n",
      "..      ...          ...                ...          ...   ...     ...   \n",
      "175    53.9         2414                  4          122  3.31    3.54   \n",
      "176    54.9         2414                  4          122  3.31    3.54   \n",
      "177    53.9         2458                  4          122  3.31    3.54   \n",
      "178    52.0         2976                  6          171  3.27    3.35   \n",
      "179    52.0         3016                  6          171  3.27    3.35   \n",
      "180    54.1         3131                  6          171  3.27    3.35   \n",
      "181    54.1         3151                  6          161  3.27    3.35   \n",
      "182    55.7         2261                  4           97  3.01    3.40   \n",
      "183    55.7         2209                  4          109  3.19    3.40   \n",
      "184    55.7         2264                  4           97  3.01    3.40   \n",
      "185    55.7         2212                  4          109  3.19    3.40   \n",
      "186    55.7         2275                  4          109  3.19    3.40   \n",
      "187    55.7         2319                  4           97  3.01    3.40   \n",
      "188    55.7         2300                  4          109  3.19    3.40   \n",
      "189    55.6         2254                  4          109  3.19    3.40   \n",
      "190    51.4         2221                  4          109  3.19    3.40   \n",
      "191    55.1         2661                  5          136  3.19    3.40   \n",
      "192    55.1         2579                  4           97  3.01    3.40   \n",
      "193    55.1         2563                  4          109  3.19    3.40   \n",
      "194    56.2         2912                  4          141  3.78    3.15   \n",
      "195    57.5         3034                  4          141  3.78    3.15   \n",
      "196    56.2         2935                  4          141  3.78    3.15   \n",
      "197    57.5         3042                  4          141  3.78    3.15   \n",
      "198    56.2         3045                  4          130  3.62    3.15   \n",
      "199    57.5         3157                  4          130  3.62    3.15   \n",
      "200    55.5         2952                  4          141  3.78    3.15   \n",
      "201    55.5         3049                  4          141  3.78    3.15   \n",
      "202    55.5         3012                  6          173  3.58    2.87   \n",
      "203    55.5         3217                  6          145  3.01    3.40   \n",
      "204    55.5         3062                  4          141  3.78    3.15   \n",
      "\n",
      "     compression_ratio  horsepower  peak_rpm  city_mpg  highway_mpg  \n",
      "0                 9.00       111.0    5000.0        21           27  \n",
      "1                 9.00       111.0    5000.0        21           27  \n",
      "2                 9.00       154.0    5000.0        19           26  \n",
      "3                10.00       102.0    5500.0        24           30  \n",
      "4                 8.00       115.0    5500.0        18           22  \n",
      "5                 8.50       110.0    5500.0        19           25  \n",
      "6                 8.50       110.0    5500.0        19           25  \n",
      "7                 8.50       110.0    5500.0        19           25  \n",
      "8                 8.30       140.0    5500.0        17           20  \n",
      "9                 7.00       160.0    5500.0        16           22  \n",
      "10                8.80       101.0    5800.0        23           29  \n",
      "11                8.80       101.0    5800.0        23           29  \n",
      "12                9.00       121.0    4250.0        21           28  \n",
      "13                9.00       121.0    4250.0        21           28  \n",
      "14                9.00       121.0    4250.0        20           25  \n",
      "15                8.00       182.0    5400.0        16           22  \n",
      "16                8.00       182.0    5400.0        16           22  \n",
      "17                8.00       182.0    5400.0        15           20  \n",
      "18                9.50        48.0    5100.0        47           53  \n",
      "19                9.60        70.0    5400.0        38           43  \n",
      "20                9.60        70.0    5400.0        38           43  \n",
      "21                9.41        68.0    5500.0        37           41  \n",
      "22                9.40        68.0    5500.0        31           38  \n",
      "23                7.60       102.0    5500.0        24           30  \n",
      "24                9.40        68.0    5500.0        31           38  \n",
      "25                9.40        68.0    5500.0        31           38  \n",
      "26                9.40        68.0    5500.0        31           38  \n",
      "27                7.60       102.0    5500.0        24           30  \n",
      "28                8.50        88.0    5000.0        24           30  \n",
      "29                7.00       145.0    5000.0        19           24  \n",
      "..                 ...         ...       ...       ...          ...  \n",
      "175               8.70        92.0    4200.0        27           32  \n",
      "176               8.70        92.0    4200.0        27           32  \n",
      "177               8.70        92.0    4200.0        27           32  \n",
      "178               9.30       161.0    5200.0        20           24  \n",
      "179               9.30       161.0    5200.0        19           24  \n",
      "180               9.20       156.0    5200.0        20           24  \n",
      "181               9.20       156.0    5200.0        19           24  \n",
      "182              23.00        52.0    4800.0        37           46  \n",
      "183               9.00        85.0    5250.0        27           34  \n",
      "184              23.00        52.0    4800.0        37           46  \n",
      "185               9.00        85.0    5250.0        27           34  \n",
      "186               9.00        85.0    5250.0        27           34  \n",
      "187              23.00        68.0    4500.0        37           42  \n",
      "188              10.00       100.0    5500.0        26           32  \n",
      "189               8.50        90.0    5500.0        24           29  \n",
      "190               8.50        90.0    5500.0        24           29  \n",
      "191               8.50       110.0    5500.0        19           24  \n",
      "192              23.00        68.0    4500.0        33           38  \n",
      "193               9.00        88.0    5500.0        25           31  \n",
      "194               9.50       114.0    5400.0        23           28  \n",
      "195               9.50       114.0    5400.0        23           28  \n",
      "196               9.50       114.0    5400.0        24           28  \n",
      "197               9.50       114.0    5400.0        24           28  \n",
      "198               7.50       162.0    5100.0        17           22  \n",
      "199               7.50       162.0    5100.0        17           22  \n",
      "200               9.50       114.0    5400.0        23           28  \n",
      "201               8.70       160.0    5300.0        19           25  \n",
      "202               8.80       134.0    5500.0        18           23  \n",
      "203              23.00       106.0    4800.0        26           27  \n",
      "204               9.50       114.0    5400.0        19           25  \n",
      "\n",
      "[205 rows x 17 columns]\n"
     ]
    }
   ],
   "source": [
    "name = cars.select_dtypes(include = 'number').columns\n",
    "name = name.drop(['price'])\n",
    "col_to_normalized = cars[['symboling', 'normalize_losses', 'num_of_doors', 'wheel_base', 'length',\n",
    "       'width', 'height', 'curb_weight', 'num_of_cyclinders', 'engine_size',\n",
    "       'bore', 'stroke', 'compression_ratio', 'horsepower', 'peak_rpm',\n",
    "       'city_mpg', 'highway_mpg']]\n",
    "print(col_to_normalized)"
   ]
  },
  {
   "cell_type": "markdown",
   "metadata": {
    "collapsed": true
   },
   "source": [
    "After some data cleaning, here is the list of the numeric columns we decided to keep: `symboling', 'normalize_losses', 'num_of_doors', 'wheel_base', 'length', 'width', 'height', 'curb_weight', 'num_of_cyclinders', 'engine_size','bore', 'stroke', 'compression_ratio', 'horsepower', 'peak_rpm','city_mpg', 'highway_mpg', 'price`"
   ]
  },
  {
   "cell_type": "code",
   "execution_count": 20,
   "metadata": {
    "collapsed": false
   },
   "outputs": [
    {
     "name": "stdout",
     "output_type": "stream",
     "text": [
      "     symboling  normalize_losses  num_of_doors  wheel_base    length  \\\n",
      "0          1.0          0.298429      0.000000    0.058309  0.413433   \n",
      "1          1.0          0.298429      0.000000    0.058309  0.413433   \n",
      "2          0.6          0.298429      0.000000    0.230321  0.449254   \n",
      "3          0.8          0.518325      1.000000    0.384840  0.529851   \n",
      "4          0.8          0.518325      1.000000    0.373178  0.529851   \n",
      "5          0.8          0.298429      0.000000    0.384840  0.540299   \n",
      "6          0.6          0.486911      1.000000    0.559767  0.770149   \n",
      "7          0.6          0.298429      1.000000    0.559767  0.770149   \n",
      "8          0.6          0.486911      1.000000    0.559767  0.770149   \n",
      "9          0.4          0.298429      0.000000    0.376093  0.553731   \n",
      "10         0.8          0.664921      0.000000    0.425656  0.532836   \n",
      "11         0.4          0.664921      1.000000    0.425656  0.532836   \n",
      "12         0.4          0.643979      0.000000    0.425656  0.532836   \n",
      "13         0.4          0.643979      1.000000    0.425656  0.532836   \n",
      "14         0.6          0.298429      1.000000    0.492711  0.714925   \n",
      "15         0.4          0.298429      1.000000    0.492711  0.714925   \n",
      "16         0.4          0.298429      0.000000    0.492711  0.786567   \n",
      "17         0.4          0.298429      1.000000    0.682216  0.834328   \n",
      "18         0.8          0.293194      0.000000    0.052478  0.000000   \n",
      "19         0.6          0.172775      0.000000    0.230321  0.220896   \n",
      "20         0.4          0.083770      1.000000    0.230321  0.264179   \n",
      "21         0.6          0.277487      0.000000    0.206997  0.241791   \n",
      "22         0.6          0.277487      0.000000    0.206997  0.241791   \n",
      "23         0.6          0.277487      0.000000    0.206997  0.241791   \n",
      "24         0.6          0.434555      1.000000    0.206997  0.241791   \n",
      "25         0.6          0.434555      1.000000    0.206997  0.241791   \n",
      "26         0.6          0.434555      1.000000    0.206997  0.241791   \n",
      "27         0.6          0.434555      0.561576    0.206997  0.241791   \n",
      "28         0.2          0.235602      1.000000    0.486880  0.500000   \n",
      "29         1.0          0.418848      0.000000    0.271137  0.479104   \n",
      "..         ...               ...           ...         ...       ...   \n",
      "175        0.2          0.000000      1.000000    0.460641  0.514925   \n",
      "176        0.2          0.000000      1.000000    0.460641  0.514925   \n",
      "177        0.2          0.000000      1.000000    0.460641  0.514925   \n",
      "178        1.0          0.691099      0.000000    0.475219  0.632836   \n",
      "179        1.0          0.691099      0.000000    0.475219  0.632836   \n",
      "180        0.2          0.130890      1.000000    0.521866  0.697015   \n",
      "181        0.2          0.298429      1.000000    0.521866  0.697015   \n",
      "182        0.8          0.298429      0.000000    0.311953  0.456716   \n",
      "183        0.8          0.298429      0.000000    0.311953  0.456716   \n",
      "184        0.8          0.151832      1.000000    0.311953  0.456716   \n",
      "185        0.8          0.151832      1.000000    0.311953  0.456716   \n",
      "186        0.8          0.151832      1.000000    0.311953  0.456716   \n",
      "187        0.8          0.151832      1.000000    0.311953  0.456716   \n",
      "188        0.8          0.151832      1.000000    0.311953  0.456716   \n",
      "189        1.0          0.298429      0.000000    0.230321  0.271642   \n",
      "190        1.0          1.000000      0.000000    0.230321  0.367164   \n",
      "191        0.4          0.298429      1.000000    0.402332  0.583582   \n",
      "192        0.4          0.298429      1.000000    0.402332  0.583582   \n",
      "193        0.4          0.298429      1.000000    0.402332  0.626866   \n",
      "194        0.0          0.198953      1.000000    0.516035  0.711940   \n",
      "195        0.2          0.047120      1.000000    0.516035  0.711940   \n",
      "196        0.0          0.198953      1.000000    0.516035  0.711940   \n",
      "197        0.2          0.047120      1.000000    0.516035  0.711940   \n",
      "198        0.0          0.198953      1.000000    0.516035  0.711940   \n",
      "199        0.2          0.047120      1.000000    0.516035  0.711940   \n",
      "200        0.2          0.157068      1.000000    0.655977  0.711940   \n",
      "201        0.2          0.157068      1.000000    0.655977  0.711940   \n",
      "202        0.2          0.157068      1.000000    0.655977  0.711940   \n",
      "203        0.2          0.157068      1.000000    0.655977  0.711940   \n",
      "204        0.2          0.157068      1.000000    0.655977  0.711940   \n",
      "\n",
      "        width    height  curb_weight  num_of_cyclinders  engine_size  \\\n",
      "0    0.316667  0.083333     0.411171                0.2     0.260377   \n",
      "1    0.316667  0.083333     0.411171                0.2     0.260377   \n",
      "2    0.433333  0.383333     0.517843                0.4     0.343396   \n",
      "3    0.491667  0.541667     0.329325                0.2     0.181132   \n",
      "4    0.508333  0.541667     0.518231                0.3     0.283019   \n",
      "5    0.500000  0.441667     0.395268                0.3     0.283019   \n",
      "6    0.925000  0.658333     0.525989                0.3     0.283019   \n",
      "7    0.925000  0.658333     0.568658                0.3     0.283019   \n",
      "8    0.925000  0.675000     0.619860                0.3     0.264151   \n",
      "9    0.633333  0.350000     0.607060                0.3     0.264151   \n",
      "10   0.375000  0.541667     0.351823                0.2     0.177358   \n",
      "11   0.375000  0.541667     0.351823                0.2     0.177358   \n",
      "12   0.375000  0.541667     0.474011                0.4     0.388679   \n",
      "13   0.375000  0.541667     0.495345                0.4     0.388679   \n",
      "14   0.550000  0.658333     0.607836                0.4     0.388679   \n",
      "15   0.550000  0.658333     0.675718                0.4     0.558491   \n",
      "16   0.633333  0.491667     0.733902                0.4     0.558491   \n",
      "17   0.883333  0.708333     0.782389                0.4     0.558491   \n",
      "18   0.000000  0.450000     0.000000                0.1     0.000000   \n",
      "19   0.275000  0.350000     0.149728                0.2     0.109434   \n",
      "20   0.275000  0.350000     0.163305                0.2     0.109434   \n",
      "21   0.291667  0.250000     0.150504                0.2     0.109434   \n",
      "22   0.291667  0.250000     0.150504                0.2     0.109434   \n",
      "23   0.291667  0.250000     0.248254                0.2     0.139623   \n",
      "24   0.291667  0.233333     0.185803                0.2     0.109434   \n",
      "25   0.291667  0.233333     0.194337                0.2     0.109434   \n",
      "26   0.291667  0.233333     0.194337                0.2     0.109434   \n",
      "27   0.291667  0.233333     0.272692                0.2     0.139623   \n",
      "28   0.358333  1.000000     0.406129                0.2     0.230189   \n",
      "29   0.500000  0.200000     0.513189                0.2     0.358491   \n",
      "..        ...       ...          ...                ...          ...   \n",
      "175  0.516667  0.508333     0.359193                0.2     0.230189   \n",
      "176  0.516667  0.591667     0.359193                0.2     0.230189   \n",
      "177  0.516667  0.508333     0.376261                0.2     0.230189   \n",
      "178  0.616667  0.350000     0.577192                0.4     0.415094   \n",
      "179  0.616667  0.350000     0.592708                0.4     0.415094   \n",
      "180  0.516667  0.525000     0.637316                0.4     0.415094   \n",
      "181  0.516667  0.525000     0.645074                0.4     0.377358   \n",
      "182  0.433333  0.658333     0.299845                0.2     0.135849   \n",
      "183  0.433333  0.658333     0.279674                0.2     0.181132   \n",
      "184  0.433333  0.658333     0.301009                0.2     0.135849   \n",
      "185  0.433333  0.658333     0.280838                0.2     0.181132   \n",
      "186  0.433333  0.658333     0.305275                0.2     0.181132   \n",
      "187  0.433333  0.658333     0.322343                0.2     0.135849   \n",
      "188  0.433333  0.658333     0.314973                0.2     0.181132   \n",
      "189  0.325000  0.650000     0.297130                0.2     0.181132   \n",
      "190  0.308333  0.300000     0.284329                0.2     0.181132   \n",
      "191  0.550000  0.608333     0.455004                0.3     0.283019   \n",
      "192  0.550000  0.608333     0.423196                0.2     0.135849   \n",
      "193  0.550000  0.608333     0.416990                0.2     0.181132   \n",
      "194  0.575000  0.700000     0.552366                0.2     0.301887   \n",
      "195  0.575000  0.808333     0.599690                0.2     0.301887   \n",
      "196  0.575000  0.700000     0.561288                0.2     0.301887   \n",
      "197  0.575000  0.808333     0.602793                0.2     0.301887   \n",
      "198  0.575000  0.700000     0.603957                0.2     0.260377   \n",
      "199  0.575000  0.808333     0.647401                0.2     0.260377   \n",
      "200  0.716667  0.641667     0.567882                0.2     0.301887   \n",
      "201  0.708333  0.641667     0.605508                0.2     0.301887   \n",
      "202  0.716667  0.641667     0.591156                0.4     0.422642   \n",
      "203  0.716667  0.641667     0.670675                0.4     0.316981   \n",
      "204  0.716667  0.641667     0.610551                0.2     0.301887   \n",
      "\n",
      "         bore    stroke  compression_ratio  horsepower  peak_rpm  city_mpg  \\\n",
      "0    0.664286  0.290476           0.125000    0.262500  0.346939  0.222222   \n",
      "1    0.664286  0.290476           0.125000    0.262500  0.346939  0.222222   \n",
      "2    0.100000  0.666667           0.125000    0.441667  0.346939  0.166667   \n",
      "3    0.464286  0.633333           0.187500    0.225000  0.551020  0.305556   \n",
      "4    0.464286  0.633333           0.062500    0.279167  0.551020  0.138889   \n",
      "5    0.464286  0.633333           0.093750    0.258333  0.551020  0.166667   \n",
      "6    0.464286  0.633333           0.093750    0.258333  0.551020  0.166667   \n",
      "7    0.464286  0.633333           0.093750    0.258333  0.551020  0.166667   \n",
      "8    0.421429  0.633333           0.081250    0.383333  0.551020  0.111111   \n",
      "9    0.421429  0.633333           0.000000    0.466667  0.551020  0.083333   \n",
      "10   0.685714  0.347619           0.112500    0.220833  0.673469  0.277778   \n",
      "11   0.685714  0.347619           0.112500    0.220833  0.673469  0.277778   \n",
      "12   0.550000  0.533333           0.125000    0.304167  0.040816  0.222222   \n",
      "13   0.550000  0.533333           0.125000    0.304167  0.040816  0.222222   \n",
      "14   0.550000  0.533333           0.125000    0.304167  0.040816  0.194444   \n",
      "15   0.771429  0.628571           0.062500    0.558333  0.510204  0.083333   \n",
      "16   0.771429  0.628571           0.062500    0.558333  0.510204  0.083333   \n",
      "17   0.771429  0.628571           0.062500    0.558333  0.510204  0.055556   \n",
      "18   0.264286  0.457143           0.156250    0.000000  0.387755  0.944444   \n",
      "19   0.350000  0.495238           0.162500    0.091667  0.510204  0.694444   \n",
      "20   0.350000  0.495238           0.162500    0.091667  0.510204  0.694444   \n",
      "21   0.307143  0.552381           0.150625    0.083333  0.551020  0.666667   \n",
      "22   0.307143  0.552381           0.150000    0.083333  0.551020  0.500000   \n",
      "23   0.350000  0.628571           0.037500    0.225000  0.551020  0.305556   \n",
      "24   0.307143  0.552381           0.150000    0.083333  0.551020  0.500000   \n",
      "25   0.307143  0.552381           0.150000    0.083333  0.551020  0.500000   \n",
      "26   0.307143  0.552381           0.150000    0.083333  0.551020  0.500000   \n",
      "27   0.350000  0.628571           0.037500    0.225000  0.551020  0.305556   \n",
      "28   0.571429  0.661905           0.093750    0.166667  0.346939  0.305556   \n",
      "29   0.757143  0.871429           0.000000    0.404167  0.346939  0.166667   \n",
      "..        ...       ...                ...         ...       ...       ...   \n",
      "175  0.550000  0.700000           0.106250    0.183333  0.020408  0.388889   \n",
      "176  0.550000  0.700000           0.106250    0.183333  0.020408  0.388889   \n",
      "177  0.550000  0.700000           0.106250    0.183333  0.020408  0.388889   \n",
      "178  0.521429  0.609524           0.143750    0.470833  0.428571  0.194444   \n",
      "179  0.521429  0.609524           0.143750    0.470833  0.428571  0.166667   \n",
      "180  0.521429  0.609524           0.137500    0.450000  0.428571  0.194444   \n",
      "181  0.521429  0.609524           0.137500    0.450000  0.428571  0.166667   \n",
      "182  0.335714  0.633333           1.000000    0.016667  0.265306  0.666667   \n",
      "183  0.464286  0.633333           0.125000    0.154167  0.448980  0.388889   \n",
      "184  0.335714  0.633333           1.000000    0.016667  0.265306  0.666667   \n",
      "185  0.464286  0.633333           0.125000    0.154167  0.448980  0.388889   \n",
      "186  0.464286  0.633333           0.125000    0.154167  0.448980  0.388889   \n",
      "187  0.335714  0.633333           1.000000    0.083333  0.142857  0.666667   \n",
      "188  0.464286  0.633333           0.187500    0.216667  0.551020  0.361111   \n",
      "189  0.464286  0.633333           0.093750    0.175000  0.551020  0.305556   \n",
      "190  0.464286  0.633333           0.093750    0.175000  0.551020  0.305556   \n",
      "191  0.464286  0.633333           0.093750    0.258333  0.551020  0.166667   \n",
      "192  0.335714  0.633333           1.000000    0.083333  0.142857  0.555556   \n",
      "193  0.464286  0.633333           0.125000    0.166667  0.551020  0.333333   \n",
      "194  0.885714  0.514286           0.156250    0.275000  0.510204  0.277778   \n",
      "195  0.885714  0.514286           0.156250    0.275000  0.510204  0.277778   \n",
      "196  0.885714  0.514286           0.156250    0.275000  0.510204  0.305556   \n",
      "197  0.885714  0.514286           0.156250    0.275000  0.510204  0.305556   \n",
      "198  0.771429  0.514286           0.031250    0.475000  0.387755  0.111111   \n",
      "199  0.771429  0.514286           0.031250    0.475000  0.387755  0.111111   \n",
      "200  0.885714  0.514286           0.156250    0.275000  0.510204  0.277778   \n",
      "201  0.885714  0.514286           0.106250    0.466667  0.469388  0.166667   \n",
      "202  0.742857  0.380952           0.112500    0.358333  0.551020  0.138889   \n",
      "203  0.335714  0.633333           1.000000    0.241667  0.265306  0.361111   \n",
      "204  0.885714  0.514286           0.156250    0.275000  0.510204  0.166667   \n",
      "\n",
      "     highway_mpg  \n",
      "0       0.289474  \n",
      "1       0.289474  \n",
      "2       0.263158  \n",
      "3       0.368421  \n",
      "4       0.157895  \n",
      "5       0.236842  \n",
      "6       0.236842  \n",
      "7       0.236842  \n",
      "8       0.105263  \n",
      "9       0.157895  \n",
      "10      0.342105  \n",
      "11      0.342105  \n",
      "12      0.315789  \n",
      "13      0.315789  \n",
      "14      0.236842  \n",
      "15      0.157895  \n",
      "16      0.157895  \n",
      "17      0.105263  \n",
      "18      0.973684  \n",
      "19      0.710526  \n",
      "20      0.710526  \n",
      "21      0.657895  \n",
      "22      0.578947  \n",
      "23      0.368421  \n",
      "24      0.578947  \n",
      "25      0.578947  \n",
      "26      0.578947  \n",
      "27      0.368421  \n",
      "28      0.368421  \n",
      "29      0.210526  \n",
      "..           ...  \n",
      "175     0.421053  \n",
      "176     0.421053  \n",
      "177     0.421053  \n",
      "178     0.210526  \n",
      "179     0.210526  \n",
      "180     0.210526  \n",
      "181     0.210526  \n",
      "182     0.789474  \n",
      "183     0.473684  \n",
      "184     0.789474  \n",
      "185     0.473684  \n",
      "186     0.473684  \n",
      "187     0.684211  \n",
      "188     0.421053  \n",
      "189     0.342105  \n",
      "190     0.342105  \n",
      "191     0.210526  \n",
      "192     0.578947  \n",
      "193     0.394737  \n",
      "194     0.315789  \n",
      "195     0.315789  \n",
      "196     0.315789  \n",
      "197     0.315789  \n",
      "198     0.157895  \n",
      "199     0.157895  \n",
      "200     0.315789  \n",
      "201     0.236842  \n",
      "202     0.184211  \n",
      "203     0.289474  \n",
      "204     0.236842  \n",
      "\n",
      "[205 rows x 17 columns]\n"
     ]
    }
   ],
   "source": [
    "## Normalize the numeric columns so all values range from 0 - 1\n",
    "from sklearn import preprocessing\n",
    "scaler = preprocessing.MinMaxScaler()\n",
    "d = scaler.fit_transform(col_to_normalized)\n",
    "scaled_df = pd.DataFrame(d, columns = name)\n",
    "print(scaled_df)"
   ]
  },
  {
   "cell_type": "code",
   "execution_count": 21,
   "metadata": {
    "collapsed": true
   },
   "outputs": [],
   "source": [
    "def clean_dataset(df):\n",
    "    assert isinstance(df, pd.DataFrame), \"df needs to be a pd.DataFrame\"\n",
    "    df.dropna(inplace=True)\n",
    "    indices_to_keep = ~df.isin([np.nan, np.inf, -np.inf]).any(1)\n",
    "    return df[indices_to_keep].astype(np.float64)\n",
    "\n",
    "scaled_df = clean_dataset(scaled_df)"
   ]
  },
  {
   "cell_type": "code",
   "execution_count": 22,
   "metadata": {
    "collapsed": false,
    "scrolled": true
   },
   "outputs": [
    {
     "name": "stdout",
     "output_type": "stream",
     "text": [
      "   symboling  normalize_losses  num_of_doors  wheel_base    length     width  \\\n",
      "0        1.0          0.298429           0.0    0.058309  0.413433  0.316667   \n",
      "1        1.0          0.298429           0.0    0.058309  0.413433  0.316667   \n",
      "2        0.6          0.298429           0.0    0.230321  0.449254  0.433333   \n",
      "3        0.8          0.518325           1.0    0.384840  0.529851  0.491667   \n",
      "4        0.8          0.518325           1.0    0.373178  0.529851  0.508333   \n",
      "\n",
      "     height  curb_weight  num_of_cyclinders  engine_size   ...     \\\n",
      "0  0.083333     0.411171                0.2     0.260377   ...      \n",
      "1  0.083333     0.411171                0.2     0.260377   ...      \n",
      "2  0.383333     0.517843                0.4     0.343396   ...      \n",
      "3  0.541667     0.329325                0.2     0.181132   ...      \n",
      "4  0.541667     0.518231                0.3     0.283019   ...      \n",
      "\n",
      "   highway_mpg         make  fuel-type  aspiration   body_style  drive_wheels  \\\n",
      "0     0.289474  alfa-romero        gas         std  convertible           rwd   \n",
      "1     0.289474  alfa-romero        gas         std  convertible           rwd   \n",
      "2     0.263158  alfa-romero        gas         std    hatchback           rwd   \n",
      "3     0.368421         audi        gas         std        sedan           fwd   \n",
      "4     0.157895         audi        gas         std        sedan           4wd   \n",
      "\n",
      "   engine_location engine_type fuel_system    price  \n",
      "0            front        dohc        mpfi  13495.0  \n",
      "1            front        dohc        mpfi  16500.0  \n",
      "2            front        ohcv        mpfi  16500.0  \n",
      "3            front         ohc        mpfi  13950.0  \n",
      "4            front         ohc        mpfi  17450.0  \n",
      "\n",
      "[5 rows x 26 columns]\n"
     ]
    }
   ],
   "source": [
    "## Append the scaled dataframe into the original\n",
    "cars.drop(['symboling', 'normalize_losses', 'num_of_doors', 'wheel_base', 'length', 'width', 'height', 'curb_weight', 'num_of_cyclinders', 'engine_size','bore', 'stroke', 'compression_ratio', 'horsepower', 'peak_rpm','city_mpg', 'highway_mpg'], axis =1, inplace = True)\n",
    "cars_final = pd.concat([scaled_df, cars], axis=1)\n",
    "print(cars_final.head())"
   ]
  },
  {
   "cell_type": "code",
   "execution_count": 23,
   "metadata": {
    "collapsed": false
   },
   "outputs": [
    {
     "name": "stdout",
     "output_type": "stream",
     "text": [
      "<class 'pandas.core.frame.DataFrame'>\n",
      "Int64Index: 205 entries, 0 to 204\n",
      "Data columns (total 18 columns):\n",
      "symboling            205 non-null float64\n",
      "normalize_losses     205 non-null float64\n",
      "num_of_doors         205 non-null float64\n",
      "wheel_base           205 non-null float64\n",
      "length               205 non-null float64\n",
      "width                205 non-null float64\n",
      "height               205 non-null float64\n",
      "curb_weight          205 non-null float64\n",
      "num_of_cyclinders    205 non-null float64\n",
      "engine_size          205 non-null float64\n",
      "bore                 205 non-null float64\n",
      "stroke               205 non-null float64\n",
      "compression_ratio    205 non-null float64\n",
      "horsepower           205 non-null float64\n",
      "peak_rpm             205 non-null float64\n",
      "city_mpg             205 non-null float64\n",
      "highway_mpg          205 non-null float64\n",
      "price                205 non-null float64\n",
      "dtypes: float64(18)\n",
      "memory usage: 30.4 KB\n"
     ]
    }
   ],
   "source": [
    "# We'll take only numeric columns for training purpose\n",
    "cars_numeric = cars_final.select_dtypes('number')\n",
    "cars_numeric.info()"
   ]
  },
  {
   "cell_type": "markdown",
   "metadata": {
    "collapsed": true
   },
   "source": [
    "## Univariate model"
   ]
  },
  {
   "cell_type": "code",
   "execution_count": 24,
   "metadata": {
    "collapsed": false
   },
   "outputs": [
    {
     "name": "stderr",
     "output_type": "stream",
     "text": [
      "/dataquest/system/env/python3/lib/python3.4/site-packages/ipykernel/__main__.py:1: SettingWithCopyWarning:\n",
      "\n",
      "\n",
      "A value is trying to be set on a copy of a slice from a DataFrame\n",
      "\n",
      "See the caveats in the documentation: http://pandas.pydata.org/pandas-docs/stable/indexing.html#indexing-view-versus-copy\n",
      "\n"
     ]
    }
   ],
   "source": [
    "cars_numeric.drop(['symboling', 'num_of_doors', 'num_of_cyclinders'], axis = 1, inplace = True) "
   ]
  },
  {
   "cell_type": "markdown",
   "metadata": {},
   "source": [
    "We'll calculate Root mean squared error (RMSE) because its units are the base units (in our case, dollars) and thus, we can understand how far off in real dollars we can expect the model to perform"
   ]
  },
  {
   "cell_type": "code",
   "execution_count": 25,
   "metadata": {
    "collapsed": false,
    "scrolled": false
   },
   "outputs": [
    {
     "name": "stdout",
     "output_type": "stream",
     "text": [
      "normalize_losses: 9150.523337235993\n",
      "wheel_base: 6386.2552817657015\n",
      "length: 6370.98241872678\n",
      "width: 3292.5866683136655\n",
      "height: 6310.731645185127\n",
      "curb_weight: 2329.053429593436\n",
      "engine_size: 4069.3213682487994\n",
      "bore: 7546.031035665008\n",
      "stroke: 7879.696574092692\n",
      "compression_ratio: 6006.554331501684\n",
      "horsepower: 4267.897997406411\n",
      "peak_rpm: 7080.180701986601\n",
      "city_mpg: 4067.933806929628\n",
      "highway_mpg: 2941.558093871541\n",
      "price: 116.93052415982154\n"
     ]
    }
   ],
   "source": [
    "from sklearn.model_selection import train_test_split\n",
    "from sklearn.neighbors import KNeighborsRegressor\n",
    "from sklearn.metrics import mean_squared_error\n",
    "from math import sqrt\n",
    "\n",
    "\n",
    "# Create a function to train a column in the dataframe and return RMSE values\n",
    "def knn_train_test(train_column, target_column, df):\n",
    "    np.random.seed(1)   \n",
    "    \n",
    "    # Split the dataset into training & test set\n",
    "    start = int(len(df) * 4/5)\n",
    "    train = df.iloc[:start]\n",
    "    test = df.iloc[start:]\n",
    "     \n",
    "    # Instantiate the KNeighborsRegressor class\n",
    "    knn = KNeighborsRegressor()\n",
    "    \n",
    "    # Fit model on training set & make predictions on test set\n",
    "    knn.fit(train[train_column], train[target_column])\n",
    "    predictions = knn.predict(test[train_column])\n",
    "    \n",
    "    # Calculate & return RMSE value\n",
    "    mse_value = mean_squared_error(test[target_column], predictions)\n",
    "    rmse_value = sqrt(mse_value)\n",
    "    return rmse_value\n",
    "\n",
    "# Test the each columns in the `cars_numeric` dataframe\n",
    "for col in cars_numeric.columns:\n",
    "    result = knn_train_test([col], ['price'], cars_numeric)\n",
    "    print(\"{}: {}\".format(col, result))"
   ]
  },
  {
   "cell_type": "code",
   "execution_count": 26,
   "metadata": {
    "collapsed": false,
    "scrolled": true
   },
   "outputs": [
    {
     "data": {
      "text/plain": [
       "{'bore': {1: 5941.301226860382,\n",
       "  3: 6604.656586531677,\n",
       "  5: 7546.031035665008,\n",
       "  7: 7671.13458148803,\n",
       "  9: 6625.105631921183},\n",
       " 'city_mpg': {1: 5170.135503248558,\n",
       "  3: 3787.247266335876,\n",
       "  5: 4067.933806929628,\n",
       "  7: 3740.7136715186844,\n",
       "  9: 3708.8006241243897},\n",
       " 'compression_ratio': {1: 7302.092147546894,\n",
       "  3: 6257.795663987847,\n",
       "  5: 6006.554331501684,\n",
       "  7: 5626.368690797441,\n",
       "  9: 5332.692518513045},\n",
       " 'curb_weight': {1: 3966.8595562024652,\n",
       "  3: 2383.891545903504,\n",
       "  5: 2329.053429593436,\n",
       "  7: 2597.9954486406787,\n",
       "  9: 2576.228629051703},\n",
       " 'engine_size': {1: 5583.719039947584,\n",
       "  3: 5108.498388824048,\n",
       "  5: 4069.3213682487994,\n",
       "  7: 3502.5019460221606,\n",
       "  9: 3375.5667270305653},\n",
       " 'height': {1: 8290.18759102146,\n",
       "  3: 8942.40939906587,\n",
       "  5: 6310.731645185127,\n",
       "  7: 5911.009874166346,\n",
       "  9: 4592.665877524994},\n",
       " 'highway_mpg': {1: 4479.683568964306,\n",
       "  3: 2964.0764482027635,\n",
       "  5: 2941.558093871541,\n",
       "  7: 2710.668492426611,\n",
       "  9: 2931.423479518287},\n",
       " 'horsepower': {1: 5317.493307299101,\n",
       "  3: 4711.2572939233905,\n",
       "  5: 4267.897997406411,\n",
       "  7: 4447.842883310401,\n",
       "  9: 4332.62179166277},\n",
       " 'length': {1: 8987.234576893288,\n",
       "  3: 6086.019064072557,\n",
       "  5: 6370.98241872678,\n",
       "  7: 6098.2907362020815,\n",
       "  9: 4929.709983934896},\n",
       " 'normalize_losses': {1: 7601.954204019037,\n",
       "  3: 9100.542376476475,\n",
       "  5: 9150.523337235993,\n",
       "  7: 7298.138848362434,\n",
       "  9: 6979.474819600302},\n",
       " 'peak_rpm': {1: 11162.822556998046,\n",
       "  3: 8687.175515787316,\n",
       "  5: 7080.180701986601,\n",
       "  7: 6462.696789673523,\n",
       "  9: 5969.832779688817},\n",
       " 'stroke': {1: 12005.717566754722,\n",
       "  3: 9644.035321895752,\n",
       "  5: 7879.696574092692,\n",
       "  7: 6317.092352503521,\n",
       "  9: 5724.448944037932},\n",
       " 'wheel_base': {1: 5920.0037752903,\n",
       "  3: 6264.121029585453,\n",
       "  5: 6386.2552817657015,\n",
       "  7: 5935.757877109236,\n",
       "  9: 5393.704112256933},\n",
       " 'width': {1: 8838.35811103985,\n",
       "  3: 4682.628104488038,\n",
       "  5: 3292.5866683136655,\n",
       "  7: 3031.8215327031758,\n",
       "  9: 3057.9829714401535}}"
      ]
     },
     "execution_count": 26,
     "metadata": {},
     "output_type": "execute_result"
    }
   ],
   "source": [
    "# Create the same function accepting various n_neighbors\n",
    "def knn_train_test(train_column, target_column, df):\n",
    "    np.random.seed(1)   \n",
    "    \n",
    "    # Split the dataset into training & test set\n",
    "    start = int(len(df) * 4/5)\n",
    "    train = df.iloc[:start]\n",
    "    test = df.iloc[start:]\n",
    "     \n",
    "    # Instantiate the KNeighborsRegressor class\n",
    "    k_values = [1, 3, 5, 7, 9]\n",
    "    k_rmses = {}\n",
    "    for k in k_values:\n",
    "        knn = KNeighborsRegressor(n_neighbors= k)\n",
    "    \n",
    "    # Fit model on training set & make predictions on test set\n",
    "        knn.fit(train[[train_column]], train[target_column])\n",
    "        predictions = knn.predict(test[[train_column]])\n",
    "    \n",
    "    # Calculate & return RMSE value\n",
    "        mse_value = mean_squared_error(test[target_column], predictions)\n",
    "        rmse_value = sqrt(mse_value)\n",
    "        \n",
    "        k_rmses[k] = rmse_value \n",
    "    return k_rmses\n",
    "\n",
    "# Test the each columns in the `cars_numeric` dataframe\n",
    "result = {}\n",
    "for col in cars_numeric.columns.drop('price'):\n",
    "    rmse_val = knn_train_test(col, 'price', cars_numeric)\n",
    "    result[col] = rmse_val\n",
    "    \n",
    "result"
   ]
  },
  {
   "cell_type": "code",
   "execution_count": 27,
   "metadata": {
    "collapsed": false
   },
   "outputs": [
    {
     "data": {
      "image/png": "[encoded data removed]",
      "text/plain": [
       "<matplotlib.figure.Figure at 0x7f899bfa4a90>"
      ]
     },
     "metadata": {},
     "output_type": "display_data"
    }
   ],
   "source": [
    "for k,v in result.items():\n",
    "    x = list(v.keys())\n",
    "    y = list(v.values()) \n",
    "    \n",
    "    plt.plot(x,y)\n",
    "    plt.xlabel('k value')\n",
    "    plt.ylabel('RMSE')"
   ]
  },
  {
   "cell_type": "markdown",
   "metadata": {},
   "source": [
    "## Multivariate model"
   ]
  },
  {
   "cell_type": "code",
   "execution_count": 28,
   "metadata": {
    "collapsed": false
   },
   "outputs": [
    {
     "name": "stdout",
     "output_type": "stream",
     "text": [
      "curb_weight          2770.805722\n",
      "highway_mpg          3205.482017\n",
      "city_mpg             4094.966174\n",
      "engine_size          4327.921494\n",
      "width                4580.675478\n",
      "horsepower           4615.422655\n",
      "wheel_base           5979.968415\n",
      "compression_ratio    6105.100670\n",
      "length               6494.447356\n",
      "height               6809.400877\n",
      "bore                 6877.645812\n",
      "peak_rpm             7872.541669\n",
      "normalize_losses     8026.126717\n",
      "stroke               8314.198152\n",
      "dtype: float64\n"
     ]
    }
   ],
   "source": [
    "# Compute average RMSE across different `k` values for each features:\n",
    "feature_avg_rmse = {}\n",
    "\n",
    "for k,v in result.items():\n",
    "    avg_rmse = np.mean(list(v.values()))\n",
    "    feature_avg_rmse[k] = avg_rmse\n",
    "    \n",
    "series_avg_rmse = pd.Series(feature_avg_rmse)\n",
    "sorted_series = series_avg_rmse.sort_values()\n",
    "print(sorted_series)"
   ]
  },
  {
   "cell_type": "code",
   "execution_count": 29,
   "metadata": {
    "collapsed": false
   },
   "outputs": [
    {
     "data": {
      "text/plain": [
       "Index(['curb_weight', 'highway_mpg'], dtype='object')"
      ]
     },
     "execution_count": 29,
     "metadata": {},
     "output_type": "execute_result"
    }
   ],
   "source": [
    "sorted_series[:2].index"
   ]
  },
  {
   "cell_type": "code",
   "execution_count": 30,
   "metadata": {
    "collapsed": false,
    "scrolled": true
   },
   "outputs": [
    {
     "name": "stdout",
     "output_type": "stream",
     "text": [
      "Best 2 features: 3367.154899975349\n",
      "Best 3 features: 2370.97465204563\n",
      "Best 4 features: 2385.379093051674\n",
      "Best 5 features: 2422.325871538756\n",
      "Best 6 features: 2188.237256054391\n"
     ]
    }
   ],
   "source": [
    "## Modify the function above to accept multiple columns\n",
    "def knn_train_test(train_column, target_column, df):\n",
    "    np.random.seed(1)   \n",
    "    \n",
    "    # Split the dataset into training & test set\n",
    "    start = int(len(df) * 4/5)\n",
    "    train = df.iloc[:start]\n",
    "    test = df.iloc[start:]\n",
    "     \n",
    "    # Instantiate the KNeighborsRegressor class\n",
    "    knn = KNeighborsRegressor()\n",
    "    \n",
    "    # Fit model on training set & make predictions on test set\n",
    "    knn.fit(train[train_column], train[target_column])\n",
    "    predictions = knn.predict(test[train_column])\n",
    "    \n",
    "    # Calculate & return RMSE value\n",
    "    mse_value = mean_squared_error(test[target_column], predictions)\n",
    "    rmse_value = sqrt(mse_value)\n",
    "    return rmse_value\n",
    "\n",
    "top_features = {}\n",
    "for i in range(2,7):\n",
    "    result = knn_train_test(sorted_series[:i].index, 'price', cars_numeric)\n",
    "    print('Best {} features: {}'.format(i, result))\n",
    "    top_features['Best {} features'.format(i)] = result\n",
    "    \n",
    "top_features = pd.Series(top_features)\n",
    "top_features = top_features.sort_values(ascending = True)"
   ]
  },
  {
   "cell_type": "code",
   "execution_count": 31,
   "metadata": {
    "collapsed": false
   },
   "outputs": [
    {
     "data": {
      "text/plain": [
       "Best 6 features    2188.237256\n",
       "Best 3 features    2370.974652\n",
       "Best 4 features    2385.379093\n",
       "Best 5 features    2422.325872\n",
       "Best 2 features    3367.154900\n",
       "dtype: float64"
      ]
     },
     "execution_count": 31,
     "metadata": {},
     "output_type": "execute_result"
    }
   ],
   "source": [
    "top_features"
   ]
  },
  {
   "cell_type": "markdown",
   "metadata": {
    "collapsed": true
   },
   "source": [
    "## Hyperparameter Tuning"
   ]
  },
  {
   "cell_type": "markdown",
   "metadata": {},
   "source": [
    "Let's optimize the model that performed the best in the previous step.\n",
    "\n",
    "For the top 3 models (3, 4 & 6 features) in the previous step, vary the hyperparameter value from 1 - 25 & plot the resulting RMSE values"
   ]
  },
  {
   "cell_type": "code",
   "execution_count": 32,
   "metadata": {
    "collapsed": false
   },
   "outputs": [
    {
     "name": "stdout",
     "output_type": "stream",
     "text": [
      "Best 2 features: \n",
      "{1: 4319.327249389079, 2: 3446.4769971360165, 3: 3559.8735670110136, 4: 3179.3483380300013, 5: 3367.154899975349, 6: 3103.3122686501442, 7: 2896.904714235643, 8: 2715.887074217433, 9: 2605.7142495344956, 10: 2617.688734864642, 11: 2526.3634265880446, 12: 2560.5409930443334, 13: 2629.9193158523644, 14: 2636.0284045455282, 15: 2669.1797804257653, 16: 2582.356008974711, 17: 2526.4499426392554, 18: 2557.665420035287, 19: 2596.9898745789087, 20: 2612.9552968785924, 21: 2586.8471179527796, 22: 2594.3121260790263, 23: 2602.8630492171296, 24: 2455.110268181772, 25: 2425.4136431011057}\n",
      "\n",
      "Best 3 features: \n",
      "{1: 4144.490324368062, 2: 3284.882251189409, 3: 2846.409918816607, 4: 2478.4666915466923, 5: 2370.97465204563, 6: 2498.6444278714794, 7: 2457.914307918735, 8: 2329.414964649994, 9: 2293.7713905311966, 10: 2547.394442140189, 11: 2582.6505782495906, 12: 2566.315470113162, 13: 2603.0624798807225, 14: 2618.267097502697, 15: 2554.333632567763, 16: 2454.986295540139, 17: 2439.41321479538, 18: 2471.3500910999237, 19: 2452.1577977805828, 20: 2428.544169859961, 21: 2388.872091796052, 22: 2391.8513978356136, 23: 2320.422588149754, 24: 2263.78392270163, 25: 2159.9313202929916}\n",
      "\n",
      "Best 4 features: \n",
      "{1: 4302.938019668356, 2: 2712.855152672427, 3: 2551.733319825654, 4: 2553.3567541575617, 5: 2385.379093051674, 6: 2316.8821160053403, 7: 2278.658108271171, 8: 2240.5903182219645, 9: 2230.803689330578, 10: 2192.884686854818, 11: 2235.1495045438323, 12: 2317.8696492885765, 13: 2273.073775829836, 14: 2290.251111406972, 15: 2306.6639929021453, 16: 2325.8159818618715, 17: 2297.233472820966, 18: 2322.326747644765, 19: 2378.9962210251933, 20: 2356.336768337289, 21: 2369.361630241224, 22: 2331.3860426267174, 23: 2358.2180165259474, 24: 2367.2466538409867, 25: 2360.2845316675907}\n",
      "\n",
      "Best 5 features: \n",
      "{1: 3956.8567953197917, 2: 2591.0418809567104, 3: 2509.3857990814654, 4: 2611.3232852691835, 5: 2422.325871538756, 6: 2427.8263509669905, 7: 2409.538673732095, 8: 2370.7372138281758, 9: 2354.491178744297, 10: 2353.7332166099027, 11: 2237.2131318941074, 12: 2132.93012992039, 13: 2007.3873349287821, 14: 1916.1651745636113, 15: 1924.8338071197304, 16: 1963.8446965182122, 17: 1985.4816548399078, 18: 2047.3683751395095, 19: 2023.1539170938688, 20: 2005.5052541362684, 21: 2059.6144388711355, 22: 2084.5706320189115, 23: 2122.963819682567, 24: 2120.614191013987, 25: 2137.6110601168853}\n",
      "\n",
      "Best 6 features: \n",
      "{1: 3471.5080565185626, 2: 2776.5141614366244, 3: 2737.7965416341704, 4: 2376.83851427561, 5: 2188.237256054391, 6: 2327.772297912858, 7: 2258.223067403439, 8: 2366.2034465960237, 9: 2380.339435218939, 10: 2400.894778275809, 11: 2373.814597472936, 12: 2348.287044267438, 13: 2274.103053263301, 14: 2238.423514093723, 15: 2241.6032125574407, 16: 2256.4411727257802, 17: 2187.7129209901195, 18: 2194.9153093084346, 19: 2198.665415602167, 20: 2182.568653654424, 21: 2252.3277769006, 22: 2272.036248580258, 23: 2315.888606390448, 24: 2366.873428379905, 25: 2465.8885254275365}\n",
      "\n"
     ]
    }
   ],
   "source": [
    "def knn_train_test(train_column, target_column, df):\n",
    "    np.random.seed(1)   \n",
    "    \n",
    "    # Split the dataset into training & test set\n",
    "    start = int(len(df) * 4/5)\n",
    "    train = df.iloc[:start]\n",
    "    test = df.iloc[start:]\n",
    "     \n",
    "    # Instantiate the KNeighborsRegressor class\n",
    "    k_values = [i for i in range(1,26)]\n",
    "    k_rmses = {}\n",
    "    for k in k_values:\n",
    "        knn = KNeighborsRegressor(n_neighbors= k)\n",
    "    \n",
    "    # Fit model on training set & make predictions on test set\n",
    "        knn.fit(train[train_column], train[target_column])\n",
    "        predictions = knn.predict(test[train_column])\n",
    "    \n",
    "    # Calculate & return RMSE value\n",
    "        mse_value = mean_squared_error(test[target_column], predictions)\n",
    "        rmse_value = sqrt(mse_value)\n",
    "        \n",
    "        k_rmses[k] = rmse_value \n",
    "    return k_rmses\n",
    "\n",
    "k_hyper_values = {}\n",
    "for i in range(2,7):\n",
    "    result = knn_train_test(sorted_series[:i].index, 'price', cars_numeric)\n",
    "    print('Best {} features: \\n{}\\n'.format(i, result))\n",
    "    k_hyper_values['Best {} features'.format(i)] = result"
   ]
  },
  {
   "cell_type": "code",
   "execution_count": 33,
   "metadata": {
    "collapsed": false
   },
   "outputs": [
    {
     "data": {
      "text/plain": [
       "<matplotlib.legend.Legend at 0x7f89984c17b8>"
      ]
     },
     "execution_count": 33,
     "metadata": {},
     "output_type": "execute_result"
    },
    {
     "data": {
      "image/png": "[encoded data removed]",
      "text/plain": [
       "<matplotlib.figure.Figure at 0x7f89984c17f0>"
      ]
     },
     "metadata": {},
     "output_type": "display_data"
    }
   ],
   "source": [
    "for k,v in k_hyper_values.items():\n",
    "    x = list(v.keys())\n",
    "    y = list(v.values())  \n",
    "    plt.plot(x,y, label=\"{}\".format(k))\n",
    "    \n",
    "plt.xlabel('k value')\n",
    "plt.ylabel('RMSE')\n",
    "plt.legend()"
   ]
  },
  {
   "cell_type": "code",
   "execution_count": null,
   "metadata": {
    "collapsed": true
   },
   "outputs": [],
   "source": []
  }
 ],
 "metadata": {
  "kernelspec": {
   "display_name": "Python 3",
   "language": "python",
   "name": "python3"
  },
  "language_info": {
   "codemirror_mode": {
    "name": "ipython",
    "version": 3
   },
   "file_extension": ".py",
   "mimetype": "text/x-python",
   "name": "python",
   "nbconvert_exporter": "python",
   "pygments_lexer": "ipython3",
   "version": "3.4.3"
  }
 },
 "nbformat": 4,
 "nbformat_minor": 2
}
